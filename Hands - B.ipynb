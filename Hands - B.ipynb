{
 "cells": [
  {
   "cell_type": "code",
   "execution_count": 1,
   "metadata": {},
   "outputs": [],
   "source": [
    "import pandas as pd\n",
    "from pandas import Series, DataFrame\n",
    "import warnings\n",
    "warnings.filterwarnings(\"ignore\")"
   ]
  },
  {
   "cell_type": "code",
   "execution_count": 2,
   "metadata": {},
   "outputs": [],
   "source": [
    "def addDF(files):\n",
    "    df = pd.DataFrame(columns=['Time_x', 'Experiment_x', ' Hand Type_x', ' # hands_x', ' Position X_x',\n",
    "       ' Position Y_x', ' Position Z_x', ' Velocity X_x', ' Velocity Y_x',\n",
    "       ' Velocity Z_x', ' Pitch_x', ' Roll_x', ' Yaw_x', ' Wrist Pos X_x',\n",
    "       ' Wrist Pos Y_x', ' Wrist Pos Z_x', ' Elbow pos X_x', ' Elbow Pos Y_x',\n",
    "       ' Elbow Pos Z_x', ' Grab Strenth_x', ' Grab Angle_x',' Pinch Strength_x', \n",
    "       'Time_y', 'Experiment_y',\n",
    "       ' Hand Type_y', ' # hands_y', ' Position X_y', ' Position Y_y',\n",
    "       ' Position Z_y', ' Velocity X_y', ' Velocity Y_y', ' Velocity Z_y',\n",
    "       ' Pitch_y', ' Roll_y', ' Yaw_y', ' Wrist Pos X_y', ' Wrist Pos Y_y',\n",
    "       ' Wrist Pos Z_y', ' Elbow pos X_y', ' Elbow Pos Y_y', ' Elbow Pos Z_y',\n",
    "       ' Grab Strenth_y', ' Grab Angle_y', ' Pinch Strength_y'])\n",
    "    for file in files:\n",
    "        f = pd.read_csv(file)\n",
    "        f = f.ix[700:]\n",
    "        f[\" Hand Type\"] = Series([1 if i == \"right\" else 2 for i in f[\" Hand Type\"]])\n",
    "        if str.__contains__(file,\"Alone\"):  \n",
    "            f.insert(loc=1, column = 'Experiment', value = \"1\")\n",
    "            f = f.drop(' Frame ID',axis = 1)\n",
    "            hr = pd.read_csv('HandRight.csv')\n",
    "            hr[\" Hand Type\"] = Series([1 if i == \"right\" else 2 for i in hr[\" Hand Type\"]])\n",
    "            hr.insert(loc = 1, column = 'Experiment', value = \"1\")\n",
    "            hr = hr.iloc[:len(f)-1]\n",
    "            hr = hr.reset_index(drop = True)\n",
    "            hr = hr.drop(' Frame ID',axis = 1)\n",
    "            f = f.reset_index(drop = True)\n",
    "            f = pd.merge(f, hr, left_index = True, right_index = True)\n",
    "        else:\n",
    "            if str.__contains__(file,\"Sync\"):\n",
    "                f.insert(loc = 1, column = 'Experiment', value = \"2\")\n",
    "            if str.__contains__(file,\"Spontan\"):\n",
    "                f.insert(loc = 1, column = 'Experiment', value = \"3\") \n",
    "            dfr = f[f[\" Hand Type\"] == 1]\n",
    "            dfl = f[f[\" Hand Type\"] == 2]\n",
    "            dfr.set_index(' Frame ID',inplace = True)\n",
    "            dfl.set_index(' Frame ID',inplace = True)\n",
    "            f = pd.merge(dfl, dfr, how = 'left',on = ' Frame ID') \n",
    "        df = pd.concat([df,f])\n",
    "        \n",
    "    df = df.drop([\"Experiment_y\"],axis = 1) \n",
    "    df = df.dropna()\n",
    "    df = df[df.index%20 == 19]\n",
    "    return df"
   ]
  },
  {
   "cell_type": "code",
   "execution_count": 3,
   "metadata": {},
   "outputs": [
    {
     "data": {
      "text/html": [
       "<div>\n",
       "<style scoped>\n",
       "    .dataframe tbody tr th:only-of-type {\n",
       "        vertical-align: middle;\n",
       "    }\n",
       "\n",
       "    .dataframe tbody tr th {\n",
       "        vertical-align: top;\n",
       "    }\n",
       "\n",
       "    .dataframe thead th {\n",
       "        text-align: right;\n",
       "    }\n",
       "</style>\n",
       "<table border=\"1\" class=\"dataframe\">\n",
       "  <thead>\n",
       "    <tr style=\"text-align: right;\">\n",
       "      <th></th>\n",
       "      <th>Time_x</th>\n",
       "      <th>Experiment_x</th>\n",
       "      <th>Hand Type_x</th>\n",
       "      <th># hands_x</th>\n",
       "      <th>Position X_x</th>\n",
       "      <th>Position Y_x</th>\n",
       "      <th>Position Z_x</th>\n",
       "      <th>Velocity X_x</th>\n",
       "      <th>Velocity Y_x</th>\n",
       "      <th>Velocity Z_x</th>\n",
       "      <th>...</th>\n",
       "      <th>Yaw_y</th>\n",
       "      <th>Wrist Pos X_y</th>\n",
       "      <th>Wrist Pos Y_y</th>\n",
       "      <th>Wrist Pos Z_y</th>\n",
       "      <th>Elbow pos X_y</th>\n",
       "      <th>Elbow Pos Y_y</th>\n",
       "      <th>Elbow Pos Z_y</th>\n",
       "      <th>Grab Strenth_y</th>\n",
       "      <th>Grab Angle_y</th>\n",
       "      <th>Pinch Strength_y</th>\n",
       "    </tr>\n",
       "  </thead>\n",
       "  <tbody>\n",
       "    <tr>\n",
       "      <th>97939</th>\n",
       "      <td>70.25439</td>\n",
       "      <td>3</td>\n",
       "      <td>2.0</td>\n",
       "      <td>2</td>\n",
       "      <td>-104.56520</td>\n",
       "      <td>220.9707</td>\n",
       "      <td>-0.256171</td>\n",
       "      <td>14.79835</td>\n",
       "      <td>-155.5296</td>\n",
       "      <td>-23.65616</td>\n",
       "      <td>...</td>\n",
       "      <td>-0.483376</td>\n",
       "      <td>190.7834</td>\n",
       "      <td>169.2575</td>\n",
       "      <td>0.099847</td>\n",
       "      <td>319.8055</td>\n",
       "      <td>31.750360</td>\n",
       "      <td>166.43180</td>\n",
       "      <td>0.0</td>\n",
       "      <td>0.776617</td>\n",
       "      <td>0.0</td>\n",
       "    </tr>\n",
       "    <tr>\n",
       "      <th>97979</th>\n",
       "      <td>70.60229</td>\n",
       "      <td>3</td>\n",
       "      <td>2.0</td>\n",
       "      <td>2</td>\n",
       "      <td>-98.00667</td>\n",
       "      <td>206.0466</td>\n",
       "      <td>28.966080</td>\n",
       "      <td>92.51122</td>\n",
       "      <td>139.2867</td>\n",
       "      <td>109.51090</td>\n",
       "      <td>...</td>\n",
       "      <td>-2.083567</td>\n",
       "      <td>164.0195</td>\n",
       "      <td>180.1207</td>\n",
       "      <td>58.917210</td>\n",
       "      <td>309.5965</td>\n",
       "      <td>-24.624330</td>\n",
       "      <td>69.31078</td>\n",
       "      <td>0.0</td>\n",
       "      <td>0.161864</td>\n",
       "      <td>0.0</td>\n",
       "    </tr>\n",
       "    <tr>\n",
       "      <th>98019</th>\n",
       "      <td>70.95020</td>\n",
       "      <td>3</td>\n",
       "      <td>2.0</td>\n",
       "      <td>2</td>\n",
       "      <td>-95.81777</td>\n",
       "      <td>242.9004</td>\n",
       "      <td>67.563370</td>\n",
       "      <td>-80.43488</td>\n",
       "      <td>157.3755</td>\n",
       "      <td>107.62240</td>\n",
       "      <td>...</td>\n",
       "      <td>-1.064591</td>\n",
       "      <td>167.9143</td>\n",
       "      <td>171.2266</td>\n",
       "      <td>54.512550</td>\n",
       "      <td>313.1440</td>\n",
       "      <td>-32.214210</td>\n",
       "      <td>81.74139</td>\n",
       "      <td>0.0</td>\n",
       "      <td>0.079539</td>\n",
       "      <td>0.0</td>\n",
       "    </tr>\n",
       "    <tr>\n",
       "      <th>98059</th>\n",
       "      <td>71.29810</td>\n",
       "      <td>3</td>\n",
       "      <td>2.0</td>\n",
       "      <td>2</td>\n",
       "      <td>-115.04970</td>\n",
       "      <td>239.4467</td>\n",
       "      <td>96.903500</td>\n",
       "      <td>57.81452</td>\n",
       "      <td>-233.5020</td>\n",
       "      <td>-85.41994</td>\n",
       "      <td>...</td>\n",
       "      <td>-0.392101</td>\n",
       "      <td>171.0687</td>\n",
       "      <td>162.9453</td>\n",
       "      <td>16.755310</td>\n",
       "      <td>330.6098</td>\n",
       "      <td>16.833510</td>\n",
       "      <td>144.89280</td>\n",
       "      <td>0.0</td>\n",
       "      <td>0.166513</td>\n",
       "      <td>0.0</td>\n",
       "    </tr>\n",
       "    <tr>\n",
       "      <th>98099</th>\n",
       "      <td>71.64600</td>\n",
       "      <td>3</td>\n",
       "      <td>2.0</td>\n",
       "      <td>2</td>\n",
       "      <td>-118.87450</td>\n",
       "      <td>269.4034</td>\n",
       "      <td>65.317100</td>\n",
       "      <td>-87.95234</td>\n",
       "      <td>273.7648</td>\n",
       "      <td>-80.86126</td>\n",
       "      <td>...</td>\n",
       "      <td>-0.920072</td>\n",
       "      <td>184.8980</td>\n",
       "      <td>193.2828</td>\n",
       "      <td>55.861020</td>\n",
       "      <td>334.7565</td>\n",
       "      <td>-1.953033</td>\n",
       "      <td>107.30660</td>\n",
       "      <td>0.0</td>\n",
       "      <td>0.218771</td>\n",
       "      <td>0.0</td>\n",
       "    </tr>\n",
       "  </tbody>\n",
       "</table>\n",
       "<p>5 rows × 43 columns</p>\n",
       "</div>"
      ],
      "text/plain": [
       "         Time_x Experiment_x   Hand Type_x  # hands_x   Position X_x  \\\n",
       "97939  70.25439            3           2.0          2     -104.56520   \n",
       "97979  70.60229            3           2.0          2      -98.00667   \n",
       "98019  70.95020            3           2.0          2      -95.81777   \n",
       "98059  71.29810            3           2.0          2     -115.04970   \n",
       "98099  71.64600            3           2.0          2     -118.87450   \n",
       "\n",
       "        Position Y_x   Position Z_x   Velocity X_x   Velocity Y_x  \\\n",
       "97939       220.9707      -0.256171       14.79835      -155.5296   \n",
       "97979       206.0466      28.966080       92.51122       139.2867   \n",
       "98019       242.9004      67.563370      -80.43488       157.3755   \n",
       "98059       239.4467      96.903500       57.81452      -233.5020   \n",
       "98099       269.4034      65.317100      -87.95234       273.7648   \n",
       "\n",
       "        Velocity Z_x        ...             Yaw_y   Wrist Pos X_y  \\\n",
       "97939      -23.65616        ...         -0.483376        190.7834   \n",
       "97979      109.51090        ...         -2.083567        164.0195   \n",
       "98019      107.62240        ...         -1.064591        167.9143   \n",
       "98059      -85.41994        ...         -0.392101        171.0687   \n",
       "98099      -80.86126        ...         -0.920072        184.8980   \n",
       "\n",
       "        Wrist Pos Y_y   Wrist Pos Z_y   Elbow pos X_y   Elbow Pos Y_y  \\\n",
       "97939        169.2575        0.099847        319.8055       31.750360   \n",
       "97979        180.1207       58.917210        309.5965      -24.624330   \n",
       "98019        171.2266       54.512550        313.1440      -32.214210   \n",
       "98059        162.9453       16.755310        330.6098       16.833510   \n",
       "98099        193.2828       55.861020        334.7565       -1.953033   \n",
       "\n",
       "        Elbow Pos Z_y   Grab Strenth_y   Grab Angle_y   Pinch Strength_y  \n",
       "97939       166.43180              0.0       0.776617                0.0  \n",
       "97979        69.31078              0.0       0.161864                0.0  \n",
       "98019        81.74139              0.0       0.079539                0.0  \n",
       "98059       144.89280              0.0       0.166513                0.0  \n",
       "98099       107.30660              0.0       0.218771                0.0  \n",
       "\n",
       "[5 rows x 43 columns]"
      ]
     },
     "execution_count": 3,
     "metadata": {},
     "output_type": "execute_result"
    }
   ],
   "source": [
    "import glob\n",
    "test= addDF(glob.glob('C:\\\\Users\\\\97252\\\\Desktop\\\\Project\\\\finalWork\\\\UnityData\\\\Validation/**/*.csv', recursive=True))\n",
    "train= addDF(glob.glob('C:\\\\Users\\\\97252\\\\Desktop\\\\Project\\\\finalWork\\\\UnityData\\\\Training/**/*.csv', recursive=True))\n",
    "train.head()"
   ]
  },
  {
   "cell_type": "code",
   "execution_count": 10,
   "metadata": {},
   "outputs": [
    {
     "name": "stdout",
     "output_type": "stream",
     "text": [
      "Training FeatureSet: (7593, 40)\n",
      "Training Labels: (7593,)\n",
      "Testing FeatureSet: (1995, 40)\n",
      "Testing Labels: (1995,)\n"
     ]
    }
   ],
   "source": [
    "X_train=train[['Time_x', ' Hand Type_x', ' Position X_x',\n",
    "       ' Position Y_x', ' Position Z_x', ' Velocity X_x', ' Velocity Y_x',\n",
    "       ' Velocity Z_x', ' Pitch_x', ' Roll_x', ' Yaw_x', ' Wrist Pos X_x',\n",
    "       ' Wrist Pos Y_x', ' Wrist Pos Z_x', ' Elbow pos X_x', ' Elbow Pos Y_x',\n",
    "       ' Elbow Pos Z_x', ' Grab Strenth_x', ' Grab Angle_x',\n",
    "       ' Pinch Strength_x', 'Time_y', ' Hand Type_y',\n",
    "       ' Position X_y', ' Position Y_y', ' Position Z_y',\n",
    "       ' Velocity X_y', ' Velocity Y_y', ' Velocity Z_y', ' Pitch_y',\n",
    "       ' Roll_y', ' Yaw_y', ' Wrist Pos X_y', ' Wrist Pos Y_y',\n",
    "       ' Wrist Pos Z_y', ' Elbow pos X_y', ' Elbow Pos Y_y', ' Elbow Pos Z_y',\n",
    "       ' Grab Strenth_y', ' Grab Angle_y', ' Pinch Strength_y']]\n",
    "y_train=train['Experiment_x']\n",
    "X_test=test[['Time_x', ' Hand Type_x', ' Position X_x',\n",
    "       ' Position Y_x', ' Position Z_x', ' Velocity X_x', ' Velocity Y_x',\n",
    "       ' Velocity Z_x', ' Pitch_x', ' Roll_x', ' Yaw_x', ' Wrist Pos X_x',\n",
    "       ' Wrist Pos Y_x', ' Wrist Pos Z_x', ' Elbow pos X_x', ' Elbow Pos Y_x',\n",
    "       ' Elbow Pos Z_x', ' Grab Strenth_x', ' Grab Angle_x',\n",
    "       ' Pinch Strength_x', 'Time_y', ' Hand Type_y',\n",
    "       ' Position X_y', ' Position Y_y', ' Position Z_y',\n",
    "       ' Velocity X_y', ' Velocity Y_y', ' Velocity Z_y', ' Pitch_y',\n",
    "       ' Roll_y', ' Yaw_y', ' Wrist Pos X_y', ' Wrist Pos Y_y',\n",
    "       ' Wrist Pos Z_y', ' Elbow pos X_y', ' Elbow Pos Y_y', ' Elbow Pos Z_y',\n",
    "       ' Grab Strenth_y', ' Grab Angle_y', ' Pinch Strength_y']]\n",
    "y_test=test['Experiment_x']\n",
    "print(\"Training FeatureSet:\", X_train.shape)\n",
    "print(\"Training Labels:\", y_train.shape)\n",
    "print(\"Testing FeatureSet:\", X_test.shape)\n",
    "print(\"Testing Labels:\", y_test.shape)"
   ]
  },
  {
   "cell_type": "code",
   "execution_count": 15,
   "metadata": {},
   "outputs": [
    {
     "name": "stdout",
     "output_type": "stream",
     "text": [
      "test score: 0.8290726817042606\n",
      "train score: 0.8588173317529303\n"
     ]
    }
   ],
   "source": [
    "#LogisticRegression\n",
    "from sklearn.linear_model import LogisticRegression\n",
    "LR = LogisticRegression()\n",
    "LR.fit(X_train, y_train)\n",
    "print(\"test score:\",LR.score(X_test,y_test))\n",
    "print(\"train score:\",LR.score(X_train,y_train))"
   ]
  },
  {
   "cell_type": "code",
   "execution_count": 31,
   "metadata": {},
   "outputs": [
    {
     "name": "stdout",
     "output_type": "stream",
     "text": [
      "Score from the PCA\n",
      "test score :  0.21403508771929824\n",
      "train score :  0.2553667851968919\n"
     ]
    }
   ],
   "source": [
    "from sklearn.decomposition import PCA\n",
    "pca = PCA(n_components = 40)\n",
    "X_t_train = pca.fit_transform (X_train)\n",
    "X_t_test = pca.fit_transform (X_test)\n",
    "ABC.fit(X_t_train, y_train)\n",
    "print (\"Score from the PCA\")\n",
    "print (\"test score : \", LR.score(X_t_test, y_test))\n",
    "print (\"train score : \", LR.score(X_t_train, y_train))"
   ]
  },
  {
   "cell_type": "code",
   "execution_count": 32,
   "metadata": {},
   "outputs": [
    {
     "name": "stdout",
     "output_type": "stream",
     "text": [
      "Score from the ICA\n",
      "test score :  0.36390977443609024\n",
      "train score :  0.7376531015408929\n"
     ]
    }
   ],
   "source": [
    "from sklearn.decomposition import FastICA\n",
    "ica = FastICA(n_components = 10, random_state = 1)\n",
    "X_t_train = ica.fit_transform (X_train)\n",
    "X_t_test = ica.fit_transform (X_test)\n",
    "ABC.fit(X_t_train, y_train)\n",
    "print (\"Score from the ICA\")\n",
    "print (\"test score : \", ABC.score(X_t_test, y_test))\n",
    "print (\"train score : \", ABC.score(X_t_train, y_train))"
   ]
  },
  {
   "cell_type": "code",
   "execution_count": 16,
   "metadata": {},
   "outputs": [
    {
     "name": "stdout",
     "output_type": "stream",
     "text": [
      "test score: 0.7172932330827068\n",
      "train score: 0.7780850783616489\n"
     ]
    }
   ],
   "source": [
    "#ADABOOST\n",
    "from sklearn.ensemble import AdaBoostClassifier\n",
    "ABC = AdaBoostClassifier(n_estimators=59)\n",
    "ABC = ABC.fit(X_train,y_train)\n",
    "print(\"test score:\", ABC.score(X_test,y_test))\n",
    "print(\"train score:\", ABC.score(X_train,y_train))"
   ]
  },
  {
   "cell_type": "code",
   "execution_count": 21,
   "metadata": {},
   "outputs": [
    {
     "name": "stdout",
     "output_type": "stream",
     "text": [
      "Score from the PCA\n",
      "test score :  0.6441102756892231\n",
      "train score :  0.752930330567628\n"
     ]
    }
   ],
   "source": [
    "from sklearn.decomposition import PCA\n",
    "pca = PCA(n_components = 5)\n",
    "X_t_train = pca.fit_transform (X_train)\n",
    "X_t_test = pca.fit_transform (X_test)\n",
    "ABC.fit(X_t_train, y_train)\n",
    "print (\"Score from the PCA\")\n",
    "print (\"test score : \", ABC.score(X_t_test, y_test))\n",
    "print (\"train score : \", ABC.score(X_t_train, y_train))"
   ]
  },
  {
   "cell_type": "code",
   "execution_count": 27,
   "metadata": {},
   "outputs": [
    {
     "name": "stdout",
     "output_type": "stream",
     "text": [
      "Score from the ICA\n",
      "test score :  0.36390977443609024\n",
      "train score :  0.7376531015408929\n"
     ]
    }
   ],
   "source": [
    "from sklearn.decomposition import FastICA\n",
    "ica = FastICA(n_components = 10, random_state = 1)\n",
    "X_t_train = ica.fit_transform (X_train)\n",
    "X_t_test = ica.fit_transform (X_test)\n",
    "ABC.fit(X_t_train, y_train)\n",
    "print (\"Score from the ICA\")\n",
    "print (\"test score : \", ABC.score(X_t_test, y_test))\n",
    "print (\"train score : \", ABC.score(X_t_train, y_train))"
   ]
  },
  {
   "cell_type": "code",
   "execution_count": 17,
   "metadata": {},
   "outputs": [
    {
     "name": "stdout",
     "output_type": "stream",
     "text": [
      "test score: 0.8040100250626566\n",
      "train score: 0.8187804556828658\n"
     ]
    }
   ],
   "source": [
    "#NAIVEBASE\n",
    "from sklearn.naive_bayes import GaussianNB\n",
    "GNB = GaussianNB()\n",
    "GNB = GNB.fit(X_train,y_train)\n",
    "print(\"test score:\", GNB.score(X_test,y_test))\n",
    "print(\"train score:\", GNB.score(X_train,y_train))"
   ]
  },
  {
   "cell_type": "code",
   "execution_count": 34,
   "metadata": {},
   "outputs": [
    {
     "name": "stdout",
     "output_type": "stream",
     "text": [
      "Score from the PCA\n",
      "test score :  0.2837092731829574\n",
      "train score :  0.27815092848676415\n"
     ]
    }
   ],
   "source": [
    "from sklearn.decomposition import PCA\n",
    "pca = PCA(n_components = 40)\n",
    "X_t_train = pca.fit_transform (X_train)\n",
    "X_t_test = pca.fit_transform (X_test)\n",
    "ABC.fit(X_t_train, y_train)\n",
    "print (\"Score from the PCA\")\n",
    "print (\"test score : \", GNB.score(X_t_test, y_test))\n",
    "print (\"train score : \", GNB.score(X_t_train, y_train))"
   ]
  },
  {
   "cell_type": "code",
   "execution_count": 36,
   "metadata": {},
   "outputs": [
    {
     "name": "stdout",
     "output_type": "stream",
     "text": [
      "Score from the ICA\n",
      "test score :  0.2837092731829574\n",
      "train score :  0.27815092848676415\n"
     ]
    }
   ],
   "source": [
    "from sklearn.decomposition import FastICA\n",
    "ica = FastICA(n_components = 40, random_state = 1)\n",
    "X_t_train = ica.fit_transform (X_train)\n",
    "X_t_test = ica.fit_transform (X_test)\n",
    "ABC.fit(X_t_train, y_train)\n",
    "print (\"Score from the ICA\")\n",
    "print (\"test score : \", GNB.score(X_t_test, y_test))\n",
    "print (\"train score : \", GNB.score(X_t_train, y_train))"
   ]
  },
  {
   "cell_type": "code",
   "execution_count": null,
   "metadata": {},
   "outputs": [],
   "source": []
  }
 ],
 "metadata": {
  "kernelspec": {
   "display_name": "Python 3",
   "language": "python",
   "name": "python3"
  },
  "language_info": {
   "codemirror_mode": {
    "name": "ipython",
    "version": 3
   },
   "file_extension": ".py",
   "mimetype": "text/x-python",
   "name": "python",
   "nbconvert_exporter": "python",
   "pygments_lexer": "ipython3",
   "version": "3.7.1"
  }
 },
 "nbformat": 4,
 "nbformat_minor": 2
}
